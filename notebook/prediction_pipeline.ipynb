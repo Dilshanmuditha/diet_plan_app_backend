{
 "cells": [
  {
   "cell_type": "code",
   "execution_count": 2,
   "id": "632dc2d5-5614-4522-963c-f7ffc63a06fc",
   "metadata": {},
   "outputs": [],
   "source": [
    "import numpy as np\n",
    "import pandas as pd"
   ]
  },
  {
   "cell_type": "code",
   "execution_count": 3,
   "id": "34911257-97f5-4667-a59b-94e64e46f1fd",
   "metadata": {},
   "outputs": [],
   "source": [
    "import pickle\n",
    "\n",
    "with open('../model/model.pickle', 'rb') as f:\n",
    "    model = pickle.load(f)"
   ]
  },
  {
   "cell_type": "code",
   "execution_count": 5,
   "id": "51dc08d1-88f2-4ddb-a98a-419a8788fefa",
   "metadata": {},
   "outputs": [
    {
     "name": "stdout",
     "output_type": "stream",
     "text": [
      "[1]\n"
     ]
    }
   ],
   "source": [
    "input_data = pd.DataFrame({\n",
    "    'Weight': [76.811975],  # Example weight in kg\n",
    "    'Height': [1.820521],  # Example height in m\n",
    "    'BMI': [21.175956],  # Example BMI\n",
    "    'Body Fat Percentage': [18],  # Example body fat percentage\n",
    "    'Age': [18],  # Example age\n",
    "    'activity_level': [2],  # Example activity level\n",
    "    'BFPcase_Acceptable': [1],  \n",
    "    'BFPcase_Athletes': [0],\n",
    "    'BFPcase_Fitness': [0],\n",
    "    'BFPcase_Obese': [0],\n",
    "    'Gender_Female': [0],  # Example gender (0 for Female, 1 for Male)\n",
    "    'Gender_Male': [1],\n",
    "    'BMIcase_mild thinness': [0],\n",
    "    'BMIcase_moderate thinness': [0],\n",
    "    'BMIcase_normal': [1],\n",
    "    'BMIcase_obese': [0],\n",
    "    'BMIcase_over weight': [0],\n",
    "    'BMIcase_sever thinness': [0],\n",
    "    'BMIcase_severe obese': [0]\n",
    "})\n",
    "\n",
    "# Make predictions\n",
    "predictions = model.predict(input_data)\n",
    "\n",
    "print(predictions)"
   ]
  },
  {
   "cell_type": "code",
   "execution_count": null,
   "id": "86eaf58a-ad69-4339-8b31-de4853bf953c",
   "metadata": {},
   "outputs": [],
   "source": []
  }
 ],
 "metadata": {
  "kernelspec": {
   "display_name": "Python 3 (ipykernel)",
   "language": "python",
   "name": "python3"
  },
  "language_info": {
   "codemirror_mode": {
    "name": "ipython",
    "version": 3
   },
   "file_extension": ".py",
   "mimetype": "text/x-python",
   "name": "python",
   "nbconvert_exporter": "python",
   "pygments_lexer": "ipython3",
   "version": "3.10.1"
  }
 },
 "nbformat": 4,
 "nbformat_minor": 5
}
